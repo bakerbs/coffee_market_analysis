{
 "cells": [
  {
   "cell_type": "code",
   "execution_count": 1,
   "metadata": {},
   "outputs": [],
   "source": [
    "import pandas as pd\n",
    "import numpy as np\n",
    "import glob\n",
    "import re"
   ]
  },
  {
   "cell_type": "code",
   "execution_count": 131,
   "metadata": {},
   "outputs": [],
   "source": [
    "raw_dir = '../data/raw'\n",
    "interim_dir = '../data/interim/'"
   ]
  },
  {
   "cell_type": "code",
   "execution_count": 3,
   "metadata": {},
   "outputs": [],
   "source": [
    "source_files = pd.DataFrame({'file_path' : sorted(glob.glob(f'{raw_dir}/*.xlsx'))})"
   ]
  },
  {
   "cell_type": "code",
   "execution_count": 4,
   "metadata": {},
   "outputs": [],
   "source": [
    "source_files['variable_type'] = \\\n",
    "    source_files['file_path'] \\\n",
    "        .replace('../data/raw/[0-9][a-z] - ', '', regex=True) \\\n",
    "            .replace('.xlsx', '', regex=True).replace('\\W{1,}', '_', regex=True) \\\n",
    "                .str.lower()"
   ]
  },
  {
   "cell_type": "code",
   "execution_count": 102,
   "metadata": {},
   "outputs": [
    {
     "name": "stderr",
     "output_type": "stream",
     "text": [
      "/Users/brentbaker/opt/miniconda3/envs/coffee_market_analysis/lib/python3.10/site-packages/openpyxl/worksheet/_reader.py:312: UserWarning: Unknown extension is not supported and will be removed\n",
      "  warn(msg)\n",
      "/Users/brentbaker/opt/miniconda3/envs/coffee_market_analysis/lib/python3.10/site-packages/openpyxl/worksheet/_reader.py:312: UserWarning: Unknown extension is not supported and will be removed\n",
      "  warn(msg)\n"
     ]
    }
   ],
   "source": [
    "dfs = {}\n",
    "for i in source_files.index:\n",
    "    dfs[source_files.loc[i,'variable_type']] =  pd.read_excel(source_files.loc[i,'file_path'])"
   ]
  },
  {
   "cell_type": "code",
   "execution_count": 103,
   "metadata": {},
   "outputs": [
    {
     "data": {
      "text/plain": [
       "dict_keys(['total_production', 'domestic_consumption', 'gross_opening_stocks', 'exports_crop_year', 'exports_calendar_year', 'imports', 're_exports', 'prices_paid_to_growers', 'retail_prices', 'indicator_prices', 'non_member_imports', 'non_member_re_exports'])"
      ]
     },
     "execution_count": 103,
     "metadata": {},
     "output_type": "execute_result"
    }
   ],
   "source": [
    "dfs.keys()"
   ]
  },
  {
   "cell_type": "code",
   "execution_count": 104,
   "metadata": {},
   "outputs": [],
   "source": [
    "x = dfs['total_production']\n",
    "x.columns = x.iloc[2, :]\n",
    "x = x.iloc[3:66, 0:32]\n",
    "x = x.dropna(how='all')\n",
    "x = x.drop(columns=x.columns[1])\n",
    "x.rename(columns={'Crop year' : 'country'}, inplace=True)\n",
    "x = x.melt(id_vars='country', var_name = 'crop_year', value_name='production_1k_bags')\n",
    "x['country'] = x['country'].str.strip()\n",
    "x['production_1k_bags'] = x['production_1k_bags'].astype('float', errors='ignore')\n",
    "x['production_kg'] = x['production_1k_bags'] * 1000 * 60\n",
    "x['production_lb'] = x['production_kg'] * 2.20462262185\n",
    "harvest_groups = ['April group', 'July group', 'October group']\n",
    "totals = ['Total']\n",
    "x['harvest_group'] = np.where(x['country'].isin(harvest_groups), x['country'], np.NaN)\n",
    "x['harvest_group'] = x['harvest_group'].ffill()\n",
    "hg_rows = x.iloc[:,0].isin(harvest_groups)\n",
    "hg_df = x.loc[hg_rows]\n",
    "tot_rows = x.iloc[:,0].isin(totals)\n",
    "tot_df = x.loc[tot_rows]\n",
    "x = x.loc[~(hg_rows|tot_rows)]\n",
    "hg_df.drop(columns='country', inplace=True)\n",
    "tot_df.drop(columns=['country', 'harvest_group'], inplace=True)\n",
    "x = x.merge(hg_df, how = 'left', on = ['crop_year', 'harvest_group'], suffixes=['', '_hg'])\n",
    "x = x.merge(tot_df, how = 'left', on = ['crop_year'], suffixes=['', '_total'])\n",
    "x = x[['harvest_group','country','crop_year','production_1k_bags','production_kg','production_lb','production_1k_bags_hg',\n",
    "'production_kg_hg','production_lb_hg','production_1k_bags_total','production_kg_total','production_lb_total']]\n",
    "dfs['total_production'] = x"
   ]
  },
  {
   "cell_type": "code",
   "execution_count": 105,
   "metadata": {},
   "outputs": [],
   "source": [
    "x = dfs['domestic_consumption']\n",
    "x.columns = x.iloc[2, :]\n",
    "x = x.iloc[3:66, 0:32]\n",
    "x = x.dropna(how='all')\n",
    "x = x.drop(columns=x.columns[1])\n",
    "x.rename(columns={'Crop year' : 'country'}, inplace=True)\n",
    "x = x.melt(id_vars='country', var_name = 'crop_year', value_name='consumption_1k_bags')\n",
    "x['country'] = x['country'].str.strip()\n",
    "x['consumption_1k_bags'] = x['consumption_1k_bags'].astype('float', errors='ignore')\n",
    "x['consumption_kg'] = x['consumption_1k_bags'] * 1000 * 60\n",
    "x['consumption_lb'] = x['consumption_kg'] * 2.20462262185\n",
    "harvest_groups = ['April group', 'July group', 'October group']\n",
    "totals = ['Total']\n",
    "x['harvest_group'] = np.where(x['country'].isin(harvest_groups), x['country'], np.NaN)\n",
    "x['harvest_group'] = x['harvest_group'].ffill()\n",
    "hg_rows = x.iloc[:,0].isin(harvest_groups)\n",
    "hg_df = x.loc[hg_rows]\n",
    "tot_rows = x.iloc[:,0].isin(totals)\n",
    "tot_df = x.loc[tot_rows]\n",
    "x = x.loc[~(hg_rows|tot_rows)]\n",
    "hg_df.drop(columns='country', inplace=True)\n",
    "tot_df.drop(columns=['country', 'harvest_group'], inplace=True)\n",
    "x = x.merge(hg_df, how = 'left', on = ['crop_year', 'harvest_group'], suffixes=['', '_hg'])\n",
    "x = x.merge(tot_df, how = 'left', on = ['crop_year'], suffixes=['', '_total'])\n",
    "x = x[['harvest_group', 'country', 'crop_year', 'consumption_1k_bags', 'consumption_kg', 'consumption_lb', 'consumption_1k_bags_hg', 'consumption_kg_hg', \n",
    "'consumption_lb_hg', 'consumption_1k_bags_total', 'consumption_kg_total', 'consumption_lb_total']]\n",
    "dfs['domestic_consumption'] = x"
   ]
  },
  {
   "cell_type": "code",
   "execution_count": 106,
   "metadata": {},
   "outputs": [],
   "source": [
    "x = dfs['gross_opening_stocks']\n",
    "x.columns = x.iloc[2, :]\n",
    "x = x.iloc[3:66, 0:32]\n",
    "x = x.dropna(how='all')\n",
    "x = x.drop(columns=x.columns[1])\n",
    "x.rename(columns={'Crop years' : 'country'}, inplace=True)\n",
    "x = x.melt(id_vars='country', var_name = 'crop_year', value_name='openstock_1k_bags')\n",
    "x['country'] = x['country'].str.strip()\n",
    "x['openstock_1k_bags'] = x['openstock_1k_bags'].astype('float', errors='ignore')\n",
    "x['openstock_kg'] = x['openstock_1k_bags'] * 1000 * 60\n",
    "x['openstock_lb'] = x['openstock_kg'] * 2.20462262185\n",
    "harvest_groups = ['April group', 'July group', 'October group']\n",
    "totals = ['Total']\n",
    "x['harvest_group'] = np.where(x['country'].isin(harvest_groups), x['country'], np.NaN)\n",
    "x['harvest_group'] = x['harvest_group'].ffill()\n",
    "hg_rows = x.iloc[:,0].isin(harvest_groups)\n",
    "hg_df = x.loc[hg_rows]\n",
    "tot_rows = x.iloc[:,0].isin(totals)\n",
    "tot_df = x.loc[tot_rows]\n",
    "x = x.loc[~(hg_rows|tot_rows)]\n",
    "hg_df.drop(columns='country', inplace=True)\n",
    "tot_df.drop(columns=['country', 'harvest_group'], inplace=True)\n",
    "x = x.merge(hg_df, how = 'left', on = ['crop_year', 'harvest_group'], suffixes=['', '_hg'])\n",
    "x = x.merge(tot_df, how = 'left', on = ['crop_year'], suffixes=['', '_total'])\n",
    "x = x[['harvest_group', 'country', 'crop_year', 'openstock_1k_bags', 'openstock_kg', 'openstock_lb', 'openstock_1k_bags_hg', 'openstock_kg_hg', \n",
    "'openstock_lb_hg', 'openstock_1k_bags_total', 'openstock_kg_total', 'openstock_lb_total']]\n",
    "dfs['gross_opening_stocks'] = x"
   ]
  },
  {
   "cell_type": "code",
   "execution_count": 107,
   "metadata": {},
   "outputs": [],
   "source": [
    "x = dfs['exports_crop_year']\n",
    "x.columns = x.iloc[2, :]\n",
    "x = x.iloc[3:66, 0:32]\n",
    "x = x.dropna(how='all')\n",
    "x = x.drop(columns=x.columns[1])\n",
    "x.rename(columns={'Crop year' : 'country'}, inplace=True)\n",
    "x = x.melt(id_vars='country', var_name = 'crop_year', value_name='exports_1k_bags')\n",
    "x['country'] = x['country'].str.strip()\n",
    "x['exports_1k_bags'] = x['exports_1k_bags'].astype('float', errors='ignore')\n",
    "x['exports_kg'] = x['exports_1k_bags'] * 1000 * 60\n",
    "x['exports_lb'] = x['exports_kg'] * 2.20462262185\n",
    "harvest_groups = ['April group', 'July group', 'October group']\n",
    "totals = ['Total']\n",
    "x['harvest_group'] = np.where(x['country'].isin(harvest_groups), x['country'], np.NaN)\n",
    "x['harvest_group'] = x['harvest_group'].ffill()\n",
    "hg_rows = x.iloc[:,0].isin(harvest_groups)\n",
    "hg_df = x.loc[hg_rows]\n",
    "tot_rows = x.iloc[:,0].isin(totals)\n",
    "tot_df = x.loc[tot_rows]\n",
    "x = x.loc[~(hg_rows|tot_rows)]\n",
    "hg_df.drop(columns='country', inplace=True)\n",
    "tot_df.drop(columns=['country', 'harvest_group'], inplace=True)\n",
    "x = x.merge(hg_df, how = 'left', on = ['crop_year', 'harvest_group'], suffixes=['', '_hg'])\n",
    "x = x.merge(tot_df, how = 'left', on = ['crop_year'], suffixes=['', '_total'])\n",
    "x = x[['harvest_group', 'country', 'crop_year', 'exports_1k_bags', 'exports_kg', 'exports_lb', \n",
    "'exports_1k_bags_hg', 'exports_kg_hg', 'exports_lb_hg', 'exports_1k_bags_total', 'exports_kg_total', 'exports_lb_total']]\n",
    "dfs['exports_crop_year'] = x"
   ]
  },
  {
   "cell_type": "code",
   "execution_count": 108,
   "metadata": {},
   "outputs": [],
   "source": [
    "x = dfs['exports_calendar_year']\n",
    "x.columns = x.iloc[2, :]\n",
    "x = x.iloc[3:60, 0:32]\n",
    "x = x.dropna(how='all')\n",
    "x = x.drop(columns=x.columns[1])\n",
    "x.rename(columns={'Calendar years' : 'country'}, inplace=True)\n",
    "x = x.melt(id_vars='country', var_name = 'calendar_year', value_name='exports_1k_bags')\n",
    "x['country'] = x['country'].str.strip()\n",
    "x['exports_1k_bags'] = x['exports_1k_bags'].astype('float', errors='ignore')\n",
    "x['exports_kg'] = x['exports_1k_bags'] * 1000 * 60\n",
    "x['exports_lb'] = x['exports_kg'] * 2.20462262185\n",
    "totals = ['Total']\n",
    "tot_rows = x.iloc[:,0].isin(totals)\n",
    "tot_df = x.loc[tot_rows]\n",
    "x = x.loc[~(tot_rows)]\n",
    "tot_df.drop(columns=['country'], inplace=True)\n",
    "x = x.merge(tot_df, how = 'left', on = ['calendar_year'], suffixes=['', '_total'])\n",
    "x = x[['country', 'calendar_year', 'exports_1k_bags', 'exports_kg', 'exports_lb',\n",
    " 'exports_1k_bags_total', 'exports_kg_total', 'exports_lb_total']]\n",
    "dfs['exports_calendar_year'] = x"
   ]
  },
  {
   "cell_type": "code",
   "execution_count": 109,
   "metadata": {},
   "outputs": [],
   "source": [
    "x = dfs['imports']\n",
    "x.columns = x.iloc[2, :]\n",
    "x = x.iloc[3:43, 0:32]\n",
    "x = x.dropna(how='all')\n",
    "x = x.drop(columns=x.columns[1])\n",
    "x.rename(columns={'Calendar years' : 'country'}, inplace=True)\n",
    "x = x.melt(id_vars='country', var_name = 'calendar_year', value_name='imports_1k_bags')\n",
    "x['country'] = x['country'].str.strip()\n",
    "x['imports_1k_bags'] = x['imports_1k_bags'].astype('float', errors='ignore')\n",
    "x['imports_kg'] = x['imports_1k_bags'] * 1000 * 60\n",
    "x['imports_lb'] = x['imports_kg'] * 2.20462262185\n",
    "eu = ['European Union']\n",
    "eu_rows = x.iloc[:,0].isin(totals)\n",
    "totals = ['Total']\n",
    "tot_rows = x.iloc[:,0].isin(totals)\n",
    "tot_df = x.loc[tot_rows]\n",
    "x = x.loc[~(eu_rows|tot_rows)]\n",
    "tot_df.drop(columns=['country'], inplace=True)\n",
    "x = x.merge(tot_df, how = 'left', on = ['calendar_year'], suffixes=['', '_total'])\n",
    "x = x[['country', 'calendar_year', 'imports_1k_bags', 'imports_kg', 'imports_lb',\n",
    " 'imports_1k_bags_total', 'imports_kg_total', 'imports_lb_total']]\n",
    "dfs['imports'] = x\n"
   ]
  },
  {
   "cell_type": "code",
   "execution_count": 110,
   "metadata": {},
   "outputs": [],
   "source": [
    "x = dfs['re_exports']\n",
    "x.columns = x.iloc[2, :]\n",
    "x = x.iloc[3:43, 0:32]\n",
    "x = x.dropna(how='all')\n",
    "x = x.drop(columns=x.columns[1])\n",
    "x.rename(columns={'Calendar years' : 'country'}, inplace=True)\n",
    "x = x.melt(id_vars='country', var_name = 'calendar_year', value_name='re_exports_1k_bags')\n",
    "x['country'] = x['country'].str.strip()\n",
    "x['re_exports_1k_bags'] = x['re_exports_1k_bags'].astype('float', errors='ignore')\n",
    "x['re_exports_kg'] = x['re_exports_1k_bags'] * 1000 * 60\n",
    "x['re_exports_lb'] = x['re_exports_kg'] * 2.20462262185\n",
    "eu = ['European Union']\n",
    "eu_rows = x.iloc[:,0].isin(totals)\n",
    "totals = ['Total']\n",
    "tot_rows = x.iloc[:,0].isin(totals)\n",
    "tot_df = x.loc[tot_rows]\n",
    "x = x.loc[~(eu_rows|tot_rows)]\n",
    "tot_df.drop(columns=['country'], inplace=True)\n",
    "x = x.merge(tot_df, how = 'left', on = ['calendar_year'], suffixes=['', '_total'])\n",
    "x = x[['country', 'calendar_year', 're_exports_1k_bags', 're_exports_kg', 're_exports_lb',\n",
    " 're_exports_1k_bags_total', 're_exports_kg_total', 're_exports_lb_total']]\n",
    "dfs['re_exports'] = x"
   ]
  },
  {
   "cell_type": "code",
   "execution_count": 111,
   "metadata": {},
   "outputs": [],
   "source": [
    "x = dfs['prices_paid_to_growers']\n",
    "x.columns = x.iloc[2, :]\n",
    "x = x.iloc[3:76, 0:28]\n",
    "x = x.dropna(how='all')\n",
    "x = x.drop(columns=x.columns[1])\n",
    "x.rename(columns={'Calendar years' : 'country'}, inplace=True)\n",
    "x = x.melt(id_vars='country', var_name = 'calendar_year', value_name='price_paid_cents_per_lb')\n",
    "x['country'] = x['country'].str.strip()\n",
    "x['price_paid_cents_per_lb'] = x['price_paid_cents_per_lb'].astype('float', errors='ignore')\n",
    "x['price_paid_dollars_per_lb'] = x['price_paid_cents_per_lb'] * 100\n",
    "categories = ['Colombian Milds', 'Other Milds', 'Brazilian Naturals', 'Robustas']\n",
    "totals = ['Total']\n",
    "x['indicator_name'] = np.where(x['country'].isin(categories), x['country'], np.NaN)\n",
    "x['indicator_name'] = x['indicator_name'].ffill()\n",
    "cat_rows = x.iloc[:,0].isin(categories)\n",
    "tot_rows = x.iloc[:,0].isin(totals)\n",
    "x = x.loc[~(cat_rows|tot_rows)]\n",
    "x = x[['country', 'indicator_name', 'calendar_year', 'price_paid_cents_per_lb', 'price_paid_dollars_per_lb']]\n",
    "dfs['prices_paid_to_growers'] = x"
   ]
  },
  {
   "cell_type": "code",
   "execution_count": 112,
   "metadata": {},
   "outputs": [],
   "source": [
    "x = dfs['indicator_prices']\n",
    "x.columns = x.iloc[2, :]\n",
    "x = x.iloc[3:424, 0:6]\n",
    "x = x.dropna(how='all')\n",
    "x.columns = x.columns.fillna('calendar_month').str.replace('\\\\n', '', regex=True).str.replace(' ', '_', regex=True).str.lower()\n",
    "x = x.melt(id_vars='calendar_month', var_name='indicator_name', value_name='indicator_price_cents_per_lb')\n",
    "x['indicator_price_cents_per_lb'] = x['indicator_price_cents_per_lb'].astype('float', errors = 'ignore')\n",
    "x['indicator_price_dollars_per_lb'] = x['indicator_price_cents_per_lb'] * 100\n",
    "year_rows = x['calendar_month'].astype('str').str.match(r'[0-9]{4}')\n",
    "x['calendar_year'] = np.where(year_rows, x['calendar_month'], np.NaN)\n",
    "x['calendar_year'] = x['calendar_year'].fillna(method='ffill')\n",
    "avg_annual = x[year_rows].drop(columns='calendar_month')\n",
    "x = x[~year_rows]\n",
    "x = x.merge(avg_annual, how = 'left', on = ['calendar_year', 'indicator_name'], suffixes=['', '_avg'])\n",
    "x = x[['calendar_year','calendar_month','indicator_name','indicator_price_cents_per_lb','indicator_price_dollars_per_lb', 'indicator_price_cents_per_lb_avg','indicator_price_dollars_per_lb_avg']]\n",
    "dfs['indicator_prices'] = x"
   ]
  },
  {
   "cell_type": "code",
   "execution_count": 113,
   "metadata": {},
   "outputs": [],
   "source": [
    "x = dfs['non_member_imports']\n",
    "x.columns = x.iloc[2, :]\n",
    "x = x.iloc[3:129, 0:32]\n",
    "x = x.dropna(how='all')\n",
    "x = x.drop(columns=x.columns[1])\n",
    "x.rename(columns={'Calendar years' : 'country'}, inplace=True)\n",
    "x = x.melt(id_vars='country', var_name = 'calendar_year', value_name='imports_1k_bags')\n",
    "x['country'] = x['country'].str.strip()\n",
    "x['imports_1k_bags'] = x['imports_1k_bags'].astype('float', errors='ignore')\n",
    "x['imports_kg'] = x['imports_1k_bags'] * 1000 * 60\n",
    "x['imports_lb'] = x['imports_kg'] * 2.20462262185\n",
    "china_agg = x.iloc[:,0].isin([\"China, People's Republic of\"])\n",
    "x = x[~china_agg]\n",
    "regions = ['Africa','Asia & Oceania','Caribbean','Central America & Mexico','Europe','North America','South America']\n",
    "totals = ['Total']\n",
    "x['region'] = np.where(x['country'].isin(regions), x['country'], np.NaN)\n",
    "x['region'] = x['region'].ffill()\n",
    "region_rows = x.iloc[:,0].isin(regions)\n",
    "region_df = x.loc[region_rows]\n",
    "tot_rows = x.iloc[:,0].isin(totals)\n",
    "tot_df = x.loc[tot_rows]\n",
    "x = x.loc[~(region_rows|tot_rows)]\n",
    "region_df.drop(columns='country', inplace=True)\n",
    "tot_df.drop(columns=['country', 'region'], inplace=True)\n",
    "x = x.merge(region_df, how = 'left', on = ['calendar_year', 'region'], suffixes=['', '_regional'])\n",
    "x = x.merge(tot_df, how = 'left', on = ['calendar_year'], suffixes=['', '_total'])\n",
    "x = x[['region','country','calendar_year','imports_1k_bags','imports_kg','imports_lb','imports_1k_bags_regional',\n",
    "'imports_kg_regional','imports_lb_regional','imports_1k_bags_total','imports_kg_total','imports_lb_total']]\n",
    "dfs['non_member_imports'] = x"
   ]
  },
  {
   "cell_type": "code",
   "execution_count": null,
   "metadata": {},
   "outputs": [],
   "source": [
    "non_member_re_exports"
   ]
  },
  {
   "cell_type": "code",
   "execution_count": 127,
   "metadata": {},
   "outputs": [],
   "source": [
    "x = dfs['non_member_re_exports']\n",
    "x.columns = x.iloc[2, :]\n",
    "x = x.iloc[3:129, 0:32]\n",
    "x = x.dropna(how='all')\n",
    "x = x.drop(columns=x.columns[1])\n",
    "x.rename(columns={'Calendar years' : 'country'}, inplace=True)\n",
    "x = x.melt(id_vars='country', var_name = 'calendar_year', value_name='re_exports_1k_bags')\n",
    "x['country'] = x['country'].str.strip()\n",
    "x['re_exports_1k_bags'] = x['re_exports_1k_bags'].astype('float', errors='ignore')\n",
    "x['re_exports_kg'] = x['re_exports_1k_bags'] * 1000 * 60\n",
    "x['re_exports_lb'] = x['re_exports_kg'] * 2.20462262185\n",
    "china_agg = x.iloc[:,0].isin([\"China, People's Republic of\"])\n",
    "x = x[~china_agg]\n",
    "regions = ['Africa','Asia & Oceania','Caribbean','Central America & Mexico','Europe','North America','South America']\n",
    "totals = ['Total']\n",
    "x['region'] = np.where(x['country'].isin(regions), x['country'], np.NaN)\n",
    "x['region'] = x['region'].ffill()\n",
    "region_rows = x.iloc[:,0].isin(regions)\n",
    "region_df = x.loc[region_rows]\n",
    "tot_rows = x.iloc[:,0].isin(totals)\n",
    "tot_df = x.loc[tot_rows]\n",
    "x = x.loc[~(region_rows|tot_rows)]\n",
    "region_df.drop(columns='country', inplace=True)\n",
    "tot_df.drop(columns=['country', 'region'], inplace=True)\n",
    "x = x.merge(region_df, how = 'left', on = ['calendar_year', 'region'], suffixes=['', '_regional'])\n",
    "x = x.merge(tot_df, how = 'left', on = ['calendar_year'], suffixes=['', '_total'])\n",
    "x = x[['region','country','calendar_year','re_exports_1k_bags','re_exports_kg','re_exports_lb','re_exports_1k_bags_regional',\n",
    "'re_exports_kg_regional','re_exports_lb_regional','re_exports_1k_bags_total','re_exports_kg_total','re_exports_lb_total']]\n",
    "dfs['non_member_re_exports'] = x"
   ]
  },
  {
   "cell_type": "code",
   "execution_count": 128,
   "metadata": {},
   "outputs": [
    {
     "data": {
      "text/plain": [
       "dict_keys(['total_production', 'domestic_consumption', 'gross_opening_stocks', 'exports_crop_year', 'exports_calendar_year', 'imports', 're_exports', 'prices_paid_to_growers', 'retail_prices', 'indicator_prices', 'non_member_imports', 'non_member_re_exports'])"
      ]
     },
     "execution_count": 128,
     "metadata": {},
     "output_type": "execute_result"
    }
   ],
   "source": [
    "dfs.keys()"
   ]
  },
  {
   "cell_type": "code",
   "execution_count": 132,
   "metadata": {},
   "outputs": [],
   "source": [
    "for k in dfs.keys():\n",
    "    dfs[source_files.loc[i,'variable_type']].to_csv(f'{interim_dir}/{k}.csv', index=False)"
   ]
  },
  {
   "cell_type": "code",
   "execution_count": null,
   "metadata": {},
   "outputs": [],
   "source": []
  }
 ],
 "metadata": {
  "kernelspec": {
   "display_name": "Python 3.10.8 ('coffee_market_analysis')",
   "language": "python",
   "name": "python3"
  },
  "language_info": {
   "codemirror_mode": {
    "name": "ipython",
    "version": 3
   },
   "file_extension": ".py",
   "mimetype": "text/x-python",
   "name": "python",
   "nbconvert_exporter": "python",
   "pygments_lexer": "ipython3",
   "version": "3.10.8"
  },
  "orig_nbformat": 4,
  "vscode": {
   "interpreter": {
    "hash": "ef026c5abf575ce9a074a52cc5f8f2ec2923cc7632f8508212c71efb4a1eb1e1"
   }
  }
 },
 "nbformat": 4,
 "nbformat_minor": 2
}
